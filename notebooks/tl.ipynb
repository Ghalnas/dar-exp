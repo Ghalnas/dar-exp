{
 "cells": [
  {
   "cell_type": "code",
   "execution_count": 1,
   "metadata": {},
   "outputs": [
    {
     "name": "stderr",
     "output_type": "stream",
     "text": [
      "Using TensorFlow backend.\n"
     ]
    }
   ],
   "source": [
    "from keras.applications.vgg16 import VGG16\n",
    "from keras.applications.vgg16 import preprocess_input, decode_predictions\n",
    "\n",
    "from keras.preprocessing.image import load_img\n",
    "from keras.preprocessing.image import img_to_array, array_to_img\n",
    "\n",
    "from keras import Model\n",
    "from keras.layers import Dense, Flatten\n",
    "from keras.optimizers import SGD\n",
    "from keras.utils import to_categorical"
   ]
  },
  {
   "cell_type": "code",
   "execution_count": 2,
   "metadata": {},
   "outputs": [],
   "source": [
    "vgg = VGG16()"
   ]
  },
  {
   "cell_type": "code",
   "execution_count": 3,
   "metadata": {},
   "outputs": [],
   "source": [
    "def predict_image_using_vgg(img_path, vgg):\n",
    "    \"\"\"\n",
    "    Open image, convert it to an array, and run predictions\n",
    "    using a trained model.\n",
    "    \"\"\"\n",
    "    # load an image from file\n",
    "    image = load_img(img_path, target_size=(224, 224))\n",
    "    # convert the image pixels to a numpy array\n",
    "    image = img_to_array(image)\n",
    "    # reshape data for the model\n",
    "    image = image.reshape(\n",
    "        (1, image.shape[0], image.shape[1], image.shape[2]))\n",
    "    image = preprocess_input(image)\n",
    "    y_pred = vgg.predict(image)\n",
    "    labels = decode_predictions(y_pred)[0]\n",
    "    for label in labels:\n",
    "        print(label)\n",
    "        "
   ]
  },
  {
   "cell_type": "code",
   "execution_count": 4,
   "metadata": {},
   "outputs": [
    {
     "ename": "FileNotFoundError",
     "evalue": "[Errno 2] No such file or directory: '../img/Dataset-32px/train/frog/cifar10-train-104.png'",
     "output_type": "error",
     "traceback": [
      "\u001b[1;31m---------------------------------------------------------------------------\u001b[0m",
      "\u001b[1;31mFileNotFoundError\u001b[0m                         Traceback (most recent call last)",
      "\u001b[1;32m<ipython-input-4-4436387ae6a2>\u001b[0m in \u001b[0;36m<module>\u001b[1;34m\u001b[0m\n\u001b[1;32m----> 1\u001b[1;33m \u001b[0mpredict_image_using_vgg\u001b[0m\u001b[1;33m(\u001b[0m\u001b[1;34m'../img/Dataset-32px/train/frog/cifar10-train-104.png'\u001b[0m\u001b[1;33m,\u001b[0m \u001b[0mvgg\u001b[0m\u001b[1;33m)\u001b[0m\u001b[1;33m\u001b[0m\u001b[1;33m\u001b[0m\u001b[0m\n\u001b[0m\u001b[0;32m      2\u001b[0m \u001b[1;31m# il s'agit d'un dataset avec des image trop petite (32x32) => nous avons abandonnait l'idée\u001b[0m\u001b[1;33m\u001b[0m\u001b[1;33m\u001b[0m\u001b[1;33m\u001b[0m\u001b[0m\n\u001b[0;32m      3\u001b[0m \u001b[1;31m# car les train sont deja reconnue et que la petite taille des images etait problematique pour un entrainement.\u001b[0m\u001b[1;33m\u001b[0m\u001b[1;33m\u001b[0m\u001b[1;33m\u001b[0m\u001b[0m\n",
      "\u001b[1;32m<ipython-input-3-a202bd164ec8>\u001b[0m in \u001b[0;36mpredict_image_using_vgg\u001b[1;34m(img_path, vgg)\u001b[0m\n\u001b[0;32m      5\u001b[0m     \"\"\"\n\u001b[0;32m      6\u001b[0m     \u001b[1;31m# load an image from file\u001b[0m\u001b[1;33m\u001b[0m\u001b[1;33m\u001b[0m\u001b[1;33m\u001b[0m\u001b[0m\n\u001b[1;32m----> 7\u001b[1;33m     \u001b[0mimage\u001b[0m \u001b[1;33m=\u001b[0m \u001b[0mload_img\u001b[0m\u001b[1;33m(\u001b[0m\u001b[0mimg_path\u001b[0m\u001b[1;33m,\u001b[0m \u001b[0mtarget_size\u001b[0m\u001b[1;33m=\u001b[0m\u001b[1;33m(\u001b[0m\u001b[1;36m224\u001b[0m\u001b[1;33m,\u001b[0m \u001b[1;36m224\u001b[0m\u001b[1;33m)\u001b[0m\u001b[1;33m)\u001b[0m\u001b[1;33m\u001b[0m\u001b[1;33m\u001b[0m\u001b[0m\n\u001b[0m\u001b[0;32m      8\u001b[0m     \u001b[1;31m# convert the image pixels to a numpy array\u001b[0m\u001b[1;33m\u001b[0m\u001b[1;33m\u001b[0m\u001b[1;33m\u001b[0m\u001b[0m\n\u001b[0;32m      9\u001b[0m     \u001b[0mimage\u001b[0m \u001b[1;33m=\u001b[0m \u001b[0mimg_to_array\u001b[0m\u001b[1;33m(\u001b[0m\u001b[0mimage\u001b[0m\u001b[1;33m)\u001b[0m\u001b[1;33m\u001b[0m\u001b[1;33m\u001b[0m\u001b[0m\n",
      "\u001b[1;32mc:\\users\\user\\desktop\\dar\\myenv\\lib\\site-packages\\keras_preprocessing\\image\\utils.py\u001b[0m in \u001b[0;36mload_img\u001b[1;34m(path, grayscale, color_mode, target_size, interpolation)\u001b[0m\n\u001b[0;32m    102\u001b[0m         raise ImportError('Could not import PIL.Image. '\n\u001b[0;32m    103\u001b[0m                           'The use of `array_to_img` requires PIL.')\n\u001b[1;32m--> 104\u001b[1;33m     \u001b[0mimg\u001b[0m \u001b[1;33m=\u001b[0m \u001b[0mpil_image\u001b[0m\u001b[1;33m.\u001b[0m\u001b[0mopen\u001b[0m\u001b[1;33m(\u001b[0m\u001b[0mpath\u001b[0m\u001b[1;33m)\u001b[0m\u001b[1;33m\u001b[0m\u001b[1;33m\u001b[0m\u001b[0m\n\u001b[0m\u001b[0;32m    105\u001b[0m     \u001b[1;32mif\u001b[0m \u001b[0mcolor_mode\u001b[0m \u001b[1;33m==\u001b[0m \u001b[1;34m'grayscale'\u001b[0m\u001b[1;33m:\u001b[0m\u001b[1;33m\u001b[0m\u001b[1;33m\u001b[0m\u001b[0m\n\u001b[0;32m    106\u001b[0m         \u001b[1;32mif\u001b[0m \u001b[0mimg\u001b[0m\u001b[1;33m.\u001b[0m\u001b[0mmode\u001b[0m \u001b[1;33m!=\u001b[0m \u001b[1;34m'L'\u001b[0m\u001b[1;33m:\u001b[0m\u001b[1;33m\u001b[0m\u001b[1;33m\u001b[0m\u001b[0m\n",
      "\u001b[1;32mc:\\users\\user\\desktop\\dar\\myenv\\lib\\site-packages\\PIL\\Image.py\u001b[0m in \u001b[0;36mopen\u001b[1;34m(fp, mode)\u001b[0m\n\u001b[0;32m   2650\u001b[0m \u001b[1;33m\u001b[0m\u001b[0m\n\u001b[0;32m   2651\u001b[0m     \u001b[1;32mif\u001b[0m \u001b[0mfilename\u001b[0m\u001b[1;33m:\u001b[0m\u001b[1;33m\u001b[0m\u001b[1;33m\u001b[0m\u001b[0m\n\u001b[1;32m-> 2652\u001b[1;33m         \u001b[0mfp\u001b[0m \u001b[1;33m=\u001b[0m \u001b[0mbuiltins\u001b[0m\u001b[1;33m.\u001b[0m\u001b[0mopen\u001b[0m\u001b[1;33m(\u001b[0m\u001b[0mfilename\u001b[0m\u001b[1;33m,\u001b[0m \u001b[1;34m\"rb\"\u001b[0m\u001b[1;33m)\u001b[0m\u001b[1;33m\u001b[0m\u001b[1;33m\u001b[0m\u001b[0m\n\u001b[0m\u001b[0;32m   2653\u001b[0m         \u001b[0mexclusive_fp\u001b[0m \u001b[1;33m=\u001b[0m \u001b[1;32mTrue\u001b[0m\u001b[1;33m\u001b[0m\u001b[1;33m\u001b[0m\u001b[0m\n\u001b[0;32m   2654\u001b[0m \u001b[1;33m\u001b[0m\u001b[0m\n",
      "\u001b[1;31mFileNotFoundError\u001b[0m: [Errno 2] No such file or directory: '../img/Dataset-32px/train/frog/cifar10-train-104.png'"
     ]
    }
   ],
   "source": [
    "predict_image_using_vgg('../img/Dataset-32px/train/frog/cifar10-train-104.png', vgg)\n",
    "# il s'agit d'un dataset avec des image trop petite (32x32) => nous avons abandonnait l'idée\n",
    "# car les train sont deja reconnue et que la petite taille des images etait problematique pour un entrainement."
   ]
  },
  {
   "cell_type": "code",
   "execution_count": 5,
   "metadata": {},
   "outputs": [
    {
     "name": "stdout",
     "output_type": "stream",
     "text": [
      "('n03063599', 'coffee_mug', 0.75265795)\n",
      "('n03063689', 'coffeepot', 0.08366192)\n",
      "('n07930864', 'cup', 0.06439695)\n",
      "('n04398044', 'teapot', 0.030264096)\n",
      "('n03950228', 'pitcher', 0.025892278)\n"
     ]
    }
   ],
   "source": [
    "predict_image_using_vgg('../img/mug.jpg', vgg)"
   ]
  },
  {
   "cell_type": "markdown",
   "metadata": {},
   "source": [
    "### Creating a dataset"
   ]
  },
  {
   "cell_type": "code",
   "execution_count": 6,
   "metadata": {},
   "outputs": [],
   "source": [
    "import os\n",
    "import glob\n",
    "import numpy as np\n",
    "\n",
    "def create_dataset(folder):\n",
    "    all_images = []\n",
    "    image_arrays = []\n",
    "    all_labels = []\n",
    "    filenames = []\n",
    "    for class_id, label in enumerate(os.listdir(folder)):\n",
    "        print(class_id, label)\n",
    "        for filename in glob.glob(folder + '/{}/*'.format(label)):\n",
    "            filenames.append(filename)\n",
    "            im = load_img(filename, target_size=(224, 224))\n",
    "            all_images.append(im)\n",
    "            preprocessed = preprocess_input(img_to_array(im))\n",
    "            image_arrays.append(preprocessed)\n",
    "            all_labels.append(class_id)\n",
    "    X = np.array(image_arrays)\n",
    "    Y = to_categorical(np.array(all_labels))\n",
    "    return X, Y, filenames, all_images"
   ]
  },
  {
   "cell_type": "code",
   "execution_count": 7,
   "metadata": {},
   "outputs": [
    {
     "name": "stdout",
     "output_type": "stream",
     "text": [
      "0 blimp\n",
      "1 brain\n",
      "2 doorknob\n"
     ]
    }
   ],
   "source": [
    "X, Y, filenames, all_images = create_dataset('../img/dataset')"
   ]
  },
  {
   "cell_type": "code",
   "execution_count": 8,
   "metadata": {},
   "outputs": [
    {
     "data": {
      "text/plain": [
       "((524, 224, 224, 3), (524, 3), 524, 524)"
      ]
     },
     "execution_count": 8,
     "metadata": {},
     "output_type": "execute_result"
    }
   ],
   "source": [
    "X.shape, Y.shape, len(filenames), len(all_images)"
   ]
  },
  {
   "cell_type": "code",
   "execution_count": 14,
   "metadata": {},
   "outputs": [
    {
     "name": "stdout",
     "output_type": "stream",
     "text": [
      "('n02692877', 'airship', 0.999946)\n",
      "('n02690373', 'airliner', 3.9203805e-05)\n",
      "('n04118538', 'rugby_ball', 8.019339e-06)\n",
      "('n04562935', 'water_tower', 4.6008167e-06)\n",
      "('n02782093', 'balloon', 9.356428e-07)\n"
     ]
    },
    {
     "data": {
      "image/png": "[encoded data removed]",
      "text/plain": [
       "<PIL.Image.Image image mode=RGB size=224x224 at 0x285989BF4E0>"
      ]
     },
     "execution_count": 14,
     "metadata": {},
     "output_type": "execute_result"
    }
   ],
   "source": [
    "img_id = 29\n",
    "predict_image_using_vgg(filenames[img_id], vgg)\n",
    "all_images[img_id]\n",
    "# ici nous erifion que l'image passé n'est pas dans une categorie deja existante de notre modele"
   ]
  },
  {
   "cell_type": "markdown",
   "metadata": {},
   "source": [
    "####  TODO Commentaire sur le résultat de VGG16 (est-ce que les classes ont du sens pour notre example ou pas)"
   ]
  },
  {
   "cell_type": "code",
   "execution_count": 81,
   "metadata": {},
   "outputs": [],
   "source": [
    "# Les classes présentées ici n'ont pas de sens pour notre exemple. En effet,\n",
    "# ces dernières sont des classes généralistes et nous souhaitons différencier des\n",
    "# objets qui n'y sont pas présentés\n",
    "# De plus, l'exemple précédant illustre parfaitement ce problème, puisque l'on souhaite ici\n",
    "# distinguer différent logo, et que le logo Adidas est interpreté comme un avion par VGG16.\n",
    "# Il faut donc de nouvelles classes\n",
    "\n",
    "# MOUNIB : les classse presenté sont proche d'un bon resultat mais ont un probleme, \n",
    "# ce n'est pas un avion mais ça voledonc les classes n'ont pas de sens"
   ]
  },
  {
   "cell_type": "markdown",
   "metadata": {},
   "source": [
    "### Transfer learning"
   ]
  },
  {
   "cell_type": "code",
   "execution_count": 15,
   "metadata": {},
   "outputs": [],
   "source": [
    "# Charger VGG-16 pré-entraîné sur ImageNet\n",
    "# mais sans les couches fully-connected\n",
    "vgg_cut = VGG16(weights=\"imagenet\", include_top=False,\n",
    "                input_shape=(224, 224, 3))\n",
    "x = vgg_cut.output\n",
    "# transform matrix into 1-d vector\n",
    "x = Flatten()(x)\n",
    "\n",
    "# TODO essayer de modifier le nombre de neurones  \n",
    "x = Dense(30, activation='relu')(x) \n",
    "\n",
    "# TODO parametrer le nombre de classes (9 ici)\n",
    "nb_classes = 3\n",
    "x = Dense(nb_classes, activation='softmax')(x)  \n",
    "\n"
   ]
  },
  {
   "cell_type": "code",
   "execution_count": 16,
   "metadata": {},
   "outputs": [],
   "source": [
    "custom_model = Model(inputs=vgg_cut.input, outputs=x)"
   ]
  },
  {
   "cell_type": "code",
   "execution_count": 17,
   "metadata": {},
   "outputs": [],
   "source": [
    "# stratégie de Transfer Learning: extraction de features\n",
    "# On entraîne seulement le nouveau classificateur,\n",
    "# et on NE ré-entraîne PAS les autres couches.\n",
    "# On utilise les autres couches uniquement pour \n",
    "# extraire des features des images\n",
    "for layer in custom_model.layers[:-2]:\n",
    "    layer.trainable = False"
   ]
  },
  {
   "cell_type": "code",
   "execution_count": 18,
   "metadata": {},
   "outputs": [
    {
     "name": "stdout",
     "output_type": "stream",
     "text": [
      "_________________________________________________________________\n",
      "Layer (type)                 Output Shape              Param #   \n",
      "=================================================================\n",
      "input_2 (InputLayer)         (None, 224, 224, 3)       0         \n",
      "_________________________________________________________________\n",
      "block1_conv1 (Conv2D)        (None, 224, 224, 64)      1792      \n",
      "_________________________________________________________________\n",
      "block1_conv2 (Conv2D)        (None, 224, 224, 64)      36928     \n",
      "_________________________________________________________________\n",
      "block1_pool (MaxPooling2D)   (None, 112, 112, 64)      0         \n",
      "_________________________________________________________________\n",
      "block2_conv1 (Conv2D)        (None, 112, 112, 128)     73856     \n",
      "_________________________________________________________________\n",
      "block2_conv2 (Conv2D)        (None, 112, 112, 128)     147584    \n",
      "_________________________________________________________________\n",
      "block2_pool (MaxPooling2D)   (None, 56, 56, 128)       0         \n",
      "_________________________________________________________________\n",
      "block3_conv1 (Conv2D)        (None, 56, 56, 256)       295168    \n",
      "_________________________________________________________________\n",
      "block3_conv2 (Conv2D)        (None, 56, 56, 256)       590080    \n",
      "_________________________________________________________________\n",
      "block3_conv3 (Conv2D)        (None, 56, 56, 256)       590080    \n",
      "_________________________________________________________________\n",
      "block3_pool (MaxPooling2D)   (None, 28, 28, 256)       0         \n",
      "_________________________________________________________________\n",
      "block4_conv1 (Conv2D)        (None, 28, 28, 512)       1180160   \n",
      "_________________________________________________________________\n",
      "block4_conv2 (Conv2D)        (None, 28, 28, 512)       2359808   \n",
      "_________________________________________________________________\n",
      "block4_conv3 (Conv2D)        (None, 28, 28, 512)       2359808   \n",
      "_________________________________________________________________\n",
      "block4_pool (MaxPooling2D)   (None, 14, 14, 512)       0         \n",
      "_________________________________________________________________\n",
      "block5_conv1 (Conv2D)        (None, 14, 14, 512)       2359808   \n",
      "_________________________________________________________________\n",
      "block5_conv2 (Conv2D)        (None, 14, 14, 512)       2359808   \n",
      "_________________________________________________________________\n",
      "block5_conv3 (Conv2D)        (None, 14, 14, 512)       2359808   \n",
      "_________________________________________________________________\n",
      "block5_pool (MaxPooling2D)   (None, 7, 7, 512)         0         \n",
      "_________________________________________________________________\n",
      "flatten_1 (Flatten)          (None, 25088)             0         \n",
      "_________________________________________________________________\n",
      "dense_1 (Dense)              (None, 30)                752670    \n",
      "_________________________________________________________________\n",
      "dense_2 (Dense)              (None, 3)                 93        \n",
      "=================================================================\n",
      "Total params: 15,467,451\n",
      "Trainable params: 752,763\n",
      "Non-trainable params: 14,714,688\n",
      "_________________________________________________________________\n"
     ]
    }
   ],
   "source": [
    "custom_model.summary()"
   ]
  },
  {
   "cell_type": "code",
   "execution_count": 19,
   "metadata": {},
   "outputs": [],
   "source": [
    "# Compiler le modèle \n",
    "custom_model.compile(\n",
    "    loss=\"categorical_crossentropy\",\n",
    "    optimizer=SGD(lr=0.0001, momentum=0.9),\n",
    "    metrics=[\"accuracy\"])"
   ]
  },
  {
   "cell_type": "code",
   "execution_count": 20,
   "metadata": {},
   "outputs": [
    {
     "name": "stdout",
     "output_type": "stream",
     "text": [
      "Epoch 1/3\n",
      "524/524 [==============================] - 376s 718ms/step - loss: 1.2812 - acc: 0.8855\n",
      "Epoch 2/3\n",
      "524/524 [==============================] - 373s 711ms/step - loss: 0.1685 - acc: 0.9809\n",
      "Epoch 3/3\n",
      "524/524 [==============================] - 350s 667ms/step - loss: 0.1989 - acc: 0.9809\n"
     ]
    },
    {
     "data": {
      "text/plain": [
       "<keras.callbacks.History at 0x285ac687080>"
      ]
     },
     "execution_count": 20,
     "metadata": {},
     "output_type": "execute_result"
    }
   ],
   "source": [
    "# Entraîner sur toutes les données\n",
    "# (X_train, Y_train)\n",
    "custom_model.fit(X, Y,\n",
    "                 epochs=3, batch_size=10)\n",
    "# TODO essayer de changer epochs=3 (5, 10)"
   ]
  },
  {
   "cell_type": "code",
   "execution_count": 28,
   "metadata": {},
   "outputs": [],
   "source": [
    "custom_model2 = Model(inputs=vgg_cut.input, outputs=x)\n",
    "# ce modele permettra de comparer epochs=3 et epochs=5"
   ]
  },
  {
   "cell_type": "code",
   "execution_count": 29,
   "metadata": {},
   "outputs": [],
   "source": [
    "for layer in custom_model2.layers[:-2]:\n",
    "    layer.trainable = False"
   ]
  },
  {
   "cell_type": "code",
   "execution_count": 30,
   "metadata": {},
   "outputs": [
    {
     "name": "stdout",
     "output_type": "stream",
     "text": [
      "_________________________________________________________________\n",
      "Layer (type)                 Output Shape              Param #   \n",
      "=================================================================\n",
      "input_2 (InputLayer)         (None, 224, 224, 3)       0         \n",
      "_________________________________________________________________\n",
      "block1_conv1 (Conv2D)        (None, 224, 224, 64)      1792      \n",
      "_________________________________________________________________\n",
      "block1_conv2 (Conv2D)        (None, 224, 224, 64)      36928     \n",
      "_________________________________________________________________\n",
      "block1_pool (MaxPooling2D)   (None, 112, 112, 64)      0         \n",
      "_________________________________________________________________\n",
      "block2_conv1 (Conv2D)        (None, 112, 112, 128)     73856     \n",
      "_________________________________________________________________\n",
      "block2_conv2 (Conv2D)        (None, 112, 112, 128)     147584    \n",
      "_________________________________________________________________\n",
      "block2_pool (MaxPooling2D)   (None, 56, 56, 128)       0         \n",
      "_________________________________________________________________\n",
      "block3_conv1 (Conv2D)        (None, 56, 56, 256)       295168    \n",
      "_________________________________________________________________\n",
      "block3_conv2 (Conv2D)        (None, 56, 56, 256)       590080    \n",
      "_________________________________________________________________\n",
      "block3_conv3 (Conv2D)        (None, 56, 56, 256)       590080    \n",
      "_________________________________________________________________\n",
      "block3_pool (MaxPooling2D)   (None, 28, 28, 256)       0         \n",
      "_________________________________________________________________\n",
      "block4_conv1 (Conv2D)        (None, 28, 28, 512)       1180160   \n",
      "_________________________________________________________________\n",
      "block4_conv2 (Conv2D)        (None, 28, 28, 512)       2359808   \n",
      "_________________________________________________________________\n",
      "block4_conv3 (Conv2D)        (None, 28, 28, 512)       2359808   \n",
      "_________________________________________________________________\n",
      "block4_pool (MaxPooling2D)   (None, 14, 14, 512)       0         \n",
      "_________________________________________________________________\n",
      "block5_conv1 (Conv2D)        (None, 14, 14, 512)       2359808   \n",
      "_________________________________________________________________\n",
      "block5_conv2 (Conv2D)        (None, 14, 14, 512)       2359808   \n",
      "_________________________________________________________________\n",
      "block5_conv3 (Conv2D)        (None, 14, 14, 512)       2359808   \n",
      "_________________________________________________________________\n",
      "block5_pool (MaxPooling2D)   (None, 7, 7, 512)         0         \n",
      "_________________________________________________________________\n",
      "flatten_1 (Flatten)          (None, 25088)             0         \n",
      "_________________________________________________________________\n",
      "dense_1 (Dense)              (None, 30)                752670    \n",
      "_________________________________________________________________\n",
      "dense_2 (Dense)              (None, 3)                 93        \n",
      "=================================================================\n",
      "Total params: 15,467,451\n",
      "Trainable params: 752,763\n",
      "Non-trainable params: 14,714,688\n",
      "_________________________________________________________________\n"
     ]
    }
   ],
   "source": [
    "custom_model2.summary()"
   ]
  },
  {
   "cell_type": "code",
   "execution_count": 33,
   "metadata": {},
   "outputs": [],
   "source": [
    "# Compiler le modèle \n",
    "custom_model2.compile(\n",
    "    loss=\"categorical_crossentropy\",\n",
    "    optimizer=SGD(lr=0.0001, momentum=0.9),\n",
    "    metrics=[\"accuracy\"])"
   ]
  },
  {
   "cell_type": "code",
   "execution_count": 34,
   "metadata": {},
   "outputs": [
    {
     "name": "stdout",
     "output_type": "stream",
     "text": [
      "Epoch 1/5\n",
      "524/524 [==============================] - 373s 712ms/step - loss: 0.0737 - acc: 0.9943\n",
      "Epoch 2/5\n",
      "524/524 [==============================] - 371s 707ms/step - loss: 0.0798 - acc: 0.9924\n",
      "Epoch 3/5\n",
      "524/524 [==============================] - 346s 659ms/step - loss: 0.2055 - acc: 0.9847\n",
      "Epoch 4/5\n",
      "524/524 [==============================] - 345s 659ms/step - loss: 0.0694 - acc: 0.9924\n",
      "Epoch 5/5\n",
      "524/524 [==============================] - 345s 659ms/step - loss: 0.0308 - acc: 0.9981\n"
     ]
    },
    {
     "data": {
      "text/plain": [
       "<keras.callbacks.History at 0x285b3a75f28>"
      ]
     },
     "execution_count": 34,
     "metadata": {},
     "output_type": "execute_result"
    }
   ],
   "source": [
    "# Entraîner sur toutes les données cette fois avec epochs=5\n",
    "# (X_train, Y_train)\n",
    "custom_model2.fit(X, Y,\n",
    "                 epochs=5, batch_size=10)"
   ]
  },
  {
   "cell_type": "code",
   "execution_count": 89,
   "metadata": {},
   "outputs": [],
   "source": [
    "# il est inutile de tester avec epochs=10 car ce serait trop long et cela provoquerait un sur-apprentissage"
   ]
  },
  {
   "cell_type": "markdown",
   "metadata": {},
   "source": [
    "#### Utilisons notre modèle entrainé pour faire des prédictions sur les images de test"
   ]
  },
  {
   "cell_type": "code",
   "execution_count": 35,
   "metadata": {},
   "outputs": [],
   "source": [
    "# télécharger les images de test (sans libellé, tout dossier TEST)\n",
    "def load_test_set(folder):\n",
    "    all_images = []\n",
    "    image_arrays = []\n",
    "    filenames = []\n",
    "    for filename in glob.glob(folder + '/*'):\n",
    "        filenames.append(filename)\n",
    "        im = load_img(filename, target_size=(224, 224))\n",
    "        all_images.append(im)\n",
    "        preprocessed = preprocess_input(img_to_array(im))\n",
    "        image_arrays.append(preprocessed)\n",
    "    X = np.array(image_arrays)\n",
    "    return X, filenames, all_images"
   ]
  },
  {
   "cell_type": "code",
   "execution_count": 36,
   "metadata": {},
   "outputs": [],
   "source": [
    "X_test, test_filenames, test_images = load_test_set(\n",
    "    '../img/test/')"
   ]
  },
  {
   "cell_type": "code",
   "execution_count": 37,
   "metadata": {},
   "outputs": [
    {
     "data": {
      "text/plain": [
       "(71, 224, 224, 3)"
      ]
     },
     "execution_count": 37,
     "metadata": {},
     "output_type": "execute_result"
    }
   ],
   "source": [
    "X_test.shape"
   ]
  },
  {
   "cell_type": "code",
   "execution_count": 42,
   "metadata": {},
   "outputs": [
    {
     "data": {
      "image/png": "[encoded data removed]",
      "text/plain": [
       "<PIL.Image.Image image mode=RGB size=224x224 at 0x285B3D25B38>"
      ]
     },
     "execution_count": 42,
     "metadata": {},
     "output_type": "execute_result"
    }
   ],
   "source": [
    "test_id = 12\n",
    "test_images[test_id]\n",
    "# on choisit l'image avec un identifiant"
   ]
  },
  {
   "cell_type": "code",
   "execution_count": 45,
   "metadata": {},
   "outputs": [
    {
     "name": "stdout",
     "output_type": "stream",
     "text": [
      "Blimp : 0.0 \n",
      "Brain : 1.0 \n",
      "Doorknob : 0.0 \n",
      "[[2.5777862e-28 1.0000000e+00 3.2788496e-37]]\n"
     ]
    }
   ],
   "source": [
    "def decode(results):\n",
    "    print(\"Blimp : \" + str(round(results[0][0], 5)) + \" \")\n",
    "    print(\"Brain : \" + str(round(results[0][1], 5)) + \" \")\n",
    "    print(\"Doorknob : \" + str(round(results[0][2], 5)) + \" \")\n",
    "    print(results)\n",
    "\n",
    "img_reshaped = X_test[test_id].reshape(1, *X_test[test_id].shape)\n",
    "result_pred = custom_model.predict(img_reshaped)\n",
    "decode(result_pred)\n",
    "# il s'agit ici de faire la prediction avec l'image que l'on voit au dessus"
   ]
  },
  {
   "cell_type": "markdown",
   "metadata": {},
   "source": [
    "####  TODO Commentaire sur le résultat des prédiction de notre modèle custom"
   ]
  },
  {
   "cell_type": "code",
   "execution_count": 95,
   "metadata": {},
   "outputs": [],
   "source": [
    "# Les resultats sont correct, \n",
    "# le modele custom a su differencier correctement les images de dirigeable, de cerveau et de poignée de porte.\n"
   ]
  },
  {
   "cell_type": "markdown",
   "metadata": {},
   "source": [
    "# Projet\n",
    "1. Trouver le sujet de classification d'images\n",
    "2. Créer le jeu de données:\n",
    "    * Télécharger les images de l'Internet\n",
    "    * Utiliser le plugin \"\"Download All Images\"\" de navigateur pour aller plus vite:\n",
    "    * Saisir la requete sur Google Images (par exemple)\n",
    "    * Cliquer sur \"Download All Images\" (le plugin du navigateur)\n",
    "    * Dézipper le fichier téléchargé\n",
    "    * Récupérer seulement des images pertinentes\n",
    "    * Mettre ces images dans votre arboscence:\n",
    "        \"img/<nom_de_l_equipe>/<un_dossier_par_catégorie>/*.png\"\n",
    "    * Créer des matrices X et Y à partir des images:\n",
    "        * itérateur sur les dossiers et les images;\n",
    "        * chargement des images;\n",
    "        * preprocessing lié à VGG16 (ou autre modèle CNN préentrainé que vous allez utiliser);\n",
    "        * création du numpy.array finale depuis la liste des images chargés et prétraités;\n",
    "        * création du vecteur de \"labels\" à partir des noms de dossiers parcourus, pour chaque image (\"adidas adidas adidas cocacola cocacola fdj fdj fdj fdj ....\");\n",
    "        * conversion du vecteur 1-dimensionnel de labels en vecteur M-dimensionnel, où M = nombre de catégories de votre problème: pour cela, utiliser la fonction *to_categorical*. Chaque label doit donc être un vecteur avec des 0.0 et une seule valeur 1.0 sur la position qui correspond à la bonne catégorie.\n",
    "        \n",
    "3. Utiliser un des modèles CNN (convolutional neural network) déjà entrainé (comme VGG ou autre, cf. ici https://keras.io/applications/) pour faire des prédictions sur quelques images de votre dataset. Utiliser \"decode_predictions\" pour afficher à quelles classes appartient des valeurs maximales du vecteur de prédiction\n",
    "\n",
    "* Comme votre use case est spécifique, et les classes présentes dans le modèle VGG ne correspondent pas à votre problème. Il faut donc faire du Transfer Learning:\n",
    "    * Prendre un modèle pré-entrainé (VGG par exemple), mais ne pas utiliser sa dernière couche! (include_top=False). Ne pas oublier de spécifier le format des images en entrée ((224, 224, 3) pour VGG). \n",
    "    * Ajouter une couche Flatten() pour aplaitir la matrice pour obtenir le vecteur 1-dimensionnel.\n",
    "    * Ajouter une couche Dense(nb_classes, activation=\"softmax\")\n",
    "    * Créer un modele *custom* qui va utiliser ces couches-là.\n",
    "    * Comme le modèle VGG sera en version \"cut\" (\"truncated\"), donc elle ne sera pas utilisé pour les prédictions mais seulement pour extraction de features. Donc, il faut préciser que les couches du modèle custom soit déclarés comme \"layer.trainable = False\". Utiliser l'itérateur sur \"custom_model.layers\" afin de préciser quelles couches ne pas entrainer.\n",
    "    * Vérifier avec \"custom_model.summary()\" que seulement les paramètres qui correspondent à la dernière couche Dense seront entrainés (cf. les messages \"Total parameters, Trainable parameters, Non-Trainable parameters\" du summary.\n",
    "    * Déclarer la méthod de \"compilation\" du modèle (fonction de perte, algorithme, métrique) avec \"custom_model.compile(....)\"\n",
    "    * Finalement, ENTRAINER le modèle avec la commande \"custom_modèle.fit\". Utiliser plusieurs nombre de *epochs* (plus est mieux, quitte à laisser le modèle s'entrainer pendant plusieurs heures); varier le *batch_size* en fonction de nombre totale d'images dans votre dataset (batch_size plus élevé accélère l'entrainement mais dégrade le résultat; par contre valeur 1 risque de finir par le \"overfit\", \"surapprentissage\", où le modèle va apprendre par coeur des exemple, mais mal généraliser sur des nouvelles images, donc le score sera mauvais aussi. Trouver la bonne valeur de batch_size, commenter les étapes de votre expérimentation.\n",
    "    \n",
    "    \n",
    "* Charger des images depuis le dossier \"img/test_images\", utiliser le même prétraitement afin d'avoir le même format que des matrices X (pas besoin de Y ici, car vous allez juste lancer des prédictions).\n",
    "* Lancer des prédictions sur ces nouvelles images (custom_model.predict).\n",
    "* Interpréter des prédictions. Quelle catégorie donne la proba maximale?  Afficher l'image dans notebook pour voir ce qu'elle représente. Est-ce que c'est la bonne catégorie qui a été prédite?\n",
    "\n",
    "\n",
    "#### Faire un résumé du projet: qu'est-ce que vous avez fait, quels résultats obtenus. Quel score a votre modèle, est-ce qu'elle prédit bien sur des images de test.\n",
    "#### Commentez votre code!!! \n",
    "    \n",
    "### livrables: GITHUB!!! code + images + requirements.txt, la même arborescence que dl MAIS SANS DOSSIER MYENV!!!  requirements.txt suffira pour recréer \"myenv\" lors de la correction\n",
    "\n",
    "### denis.lazarenko@gmail.com\n",
    "\n",
    "\n",
    "### deadline: 28 avril 2019 , 23:59:59\n",
    "### questions par mail\n",
    "\n",
    "\n",
    "#### Liens utils\n",
    "* training Keras models: \n",
    "  https://keras.io/getting-started/sequential-model-guide/\n",
    "* deep learning tutorial: https://machinelearningmastery.com/use-pre-trained-vgg-model-classify-objects-photographs/\n",
    "* convolution filter produces a feature map (animation): https://www.youtube.com/watch?v=KiftWz544_8"
   ]
  },
  {
   "cell_type": "code",
   "execution_count": 96,
   "metadata": {},
   "outputs": [],
   "source": [
    "#Nous avons fait dans ce projet:\n",
    "# -nous avons chercher des lots d'images sur les sites http://www.vision.caltech.edu/Image_Datasets/Caltech256/ et /*ton site françois*/\n",
    "# -nous avons verifier que le modele deja existant ne savais pas reconnaitre les images choisis et ce pour pouvoir l'enrichire.\n",
    "# -nous avons entrainé notre modele afin qu'il puisse reconnaitre les images de cerveau, de dirigeable et de poignée de porte.\n",
    "# -nous avons enfin donner un banc de test avec toutes sortes d'images afin de verifier que l'apprentissage c'est bien déroulé.\n",
    "\n",
    "# Nous somes donc satisfait du resultats car le modele reconnait bien les images passé,\n",
    "# de plus il a une accuratie de 1.000 car les images sont bien varié "
   ]
  },
  {
   "cell_type": "code",
   "execution_count": null,
   "metadata": {},
   "outputs": [],
   "source": []
  },
  {
   "cell_type": "code",
   "execution_count": null,
   "metadata": {},
   "outputs": [],
   "source": []
  },
  {
   "cell_type": "code",
   "execution_count": null,
   "metadata": {},
   "outputs": [],
   "source": []
  }
 ],
 "metadata": {
  "kernelspec": {
   "display_name": "Python 3",
   "language": "python",
   "name": "python3"
  },
  "language_info": {
   "codemirror_mode": {
    "name": "ipython",
    "version": 3
   },
   "file_extension": ".py",
   "mimetype": "text/x-python",
   "name": "python",
   "nbconvert_exporter": "python",
   "pygments_lexer": "ipython3",
   "version": "3.6.8"
  }
 },
 "nbformat": 4,
 "nbformat_minor": 2
}
